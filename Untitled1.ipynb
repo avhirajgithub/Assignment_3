{
 "cells": [
  {
   "cell_type": "code",
   "execution_count": null,
   "id": "5e7f0b55",
   "metadata": {},
   "outputs": [],
   "source": [
    "Q1. Why are functions advantageous to have in your programs?"
   ]
  },
  {
   "cell_type": "code",
   "execution_count": null,
   "id": "c96107ed",
   "metadata": {},
   "outputs": [],
   "source": [
    "Ans- Function provides better modularity for your application and a high degree of code reusing."
   ]
  },
  {
   "cell_type": "code",
   "execution_count": null,
   "id": "43fa3290",
   "metadata": {},
   "outputs": [],
   "source": [
    "Q2. When does the code in a function run:when it's specified or when it's called?"
   ]
  },
  {
   "cell_type": "code",
   "execution_count": null,
   "id": "af55e35e",
   "metadata": {},
   "outputs": [],
   "source": [
    "Ans - A code in a function run when it is called."
   ]
  },
  {
   "cell_type": "code",
   "execution_count": null,
   "id": "ef0679e8",
   "metadata": {},
   "outputs": [],
   "source": [
    "Q3. What statement creates a function?"
   ]
  },
  {
   "cell_type": "code",
   "execution_count": null,
   "id": "34b1958e",
   "metadata": {},
   "outputs": [],
   "source": [
    "Ans- Function blocks begains with the keyword def followed by the function name and paranthesis().\n",
    "eg:-\n",
    "    def test_1():\n",
    "        pass\n",
    "    "
   ]
  },
  {
   "cell_type": "code",
   "execution_count": null,
   "id": "b05af052",
   "metadata": {},
   "outputs": [],
   "source": [
    "Q4. What is the difference between a function and a function call?"
   ]
  },
  {
   "cell_type": "code",
   "execution_count": null,
   "id": "d6fb6858",
   "metadata": {},
   "outputs": [],
   "source": [
    "Ans- def test_1(): #def of function\n",
    "    pass\n",
    "\n",
    "test_1() #calling a function\n",
    "\n",
    "* function is a block of code that does a particular operation and returns a result.\n",
    "* A function call is the code used to pass control to a function.\n"
   ]
  },
  {
   "cell_type": "code",
   "execution_count": null,
   "id": "c3c68ab2",
   "metadata": {},
   "outputs": [],
   "source": [
    "Q5. How many global scopes are there in a Python program? How many local scopes?"
   ]
  },
  {
   "cell_type": "code",
   "execution_count": null,
   "id": "d5b78dca",
   "metadata": {},
   "outputs": [],
   "source": [
    "Ans- There's only one global Python scope per program execution.This scope can be accesssed throught\n",
    "     the program by all function and a local scope is created whenever a function is called.\n",
    "    "
   ]
  },
  {
   "cell_type": "code",
   "execution_count": null,
   "id": "2c46cd2c",
   "metadata": {},
   "outputs": [],
   "source": [
    "Q6. What happens to variables in a local scope when the function call returns?"
   ]
  },
  {
   "cell_type": "code",
   "execution_count": null,
   "id": "37a658f1",
   "metadata": {},
   "outputs": [],
   "source": [
    "Ans- When a function returns,the local scope get destroyed."
   ]
  },
  {
   "cell_type": "code",
   "execution_count": null,
   "id": "1a94b2d6",
   "metadata": {},
   "outputs": [],
   "source": [
    "Q7. What is the concept of a return value? Is it possible to have a return value in an expression?"
   ]
  },
  {
   "cell_type": "code",
   "execution_count": null,
   "id": "f30d9156",
   "metadata": {},
   "outputs": [],
   "source": [
    "Ans- A return statement is used to end the execution of the function call and “returns” the result to the caller.\n",
    "     Like any value, a return value can be used as part of an expression."
   ]
  },
  {
   "cell_type": "code",
   "execution_count": null,
   "id": "28837ea0",
   "metadata": {},
   "outputs": [],
   "source": [
    "Q8. If a function does not have a return statement, what is the return value of a call to that function?"
   ]
  },
  {
   "cell_type": "code",
   "execution_count": null,
   "id": "c0741c7b",
   "metadata": {},
   "outputs": [],
   "source": [
    "Ans-  If the funtion does not have a return statement it will not return anything."
   ]
  },
  {
   "cell_type": "code",
   "execution_count": null,
   "id": "dbbcfe22",
   "metadata": {},
   "outputs": [],
   "source": [
    "Q9. How do you make a function variable refer to the global variable?"
   ]
  },
  {
   "cell_type": "code",
   "execution_count": null,
   "id": "383e0394",
   "metadata": {},
   "outputs": [],
   "source": [
    "Ans- To make function variable as a global variable you can use the global keyword to declare which variables are global."
   ]
  },
  {
   "cell_type": "code",
   "execution_count": null,
   "id": "5c44cfc8",
   "metadata": {},
   "outputs": [],
   "source": [
    "Q10. What is the data type of None?"
   ]
  },
  {
   "cell_type": "code",
   "execution_count": null,
   "id": "7d2b89fe",
   "metadata": {},
   "outputs": [],
   "source": [
    "Ans- Data type of None is NoneType."
   ]
  },
  {
   "cell_type": "code",
   "execution_count": null,
   "id": "4f5f1f0c",
   "metadata": {},
   "outputs": [],
   "source": [
    "Q11. What does the sentence import areallyourpetsnamederic do?"
   ]
  },
  {
   "cell_type": "code",
   "execution_count": null,
   "id": "c1609153",
   "metadata": {},
   "outputs": [],
   "source": [
    "Ans- Import statement imports a module named areallyourpetsnamederic."
   ]
  },
  {
   "cell_type": "code",
   "execution_count": null,
   "id": "65a307bf",
   "metadata": {},
   "outputs": [],
   "source": [
    "Q12. If you had a bacon() feature in a spam module, what would you call it after importing spam?"
   ]
  },
  {
   "cell_type": "code",
   "execution_count": null,
   "id": "44ac8fe8",
   "metadata": {},
   "outputs": [],
   "source": [
    "Ans- spam.bacon()"
   ]
  },
  {
   "cell_type": "code",
   "execution_count": null,
   "id": "583bcb68",
   "metadata": {},
   "outputs": [],
   "source": [
    "Q14. What is the purpose of the try clause? What is the purpose of the except clause?"
   ]
  },
  {
   "cell_type": "code",
   "execution_count": null,
   "id": "9fdbc332",
   "metadata": {},
   "outputs": [],
   "source": [
    "Ans- We can handle exceptions and errors in our program by usimg try block and except block.\n",
    "     A critical operation which can raise exception is placed inside the try block and the \n",
    "     code that handles exception is written in except block. \n",
    "     \n",
    "    eg:-\n",
    "        try:\n",
    "            statement\n",
    "        except exceptionName:\n",
    "            statement\n",
    "         \n",
    "            "
   ]
  }
 ],
 "metadata": {
  "kernelspec": {
   "display_name": "Python 3 (ipykernel)",
   "language": "python",
   "name": "python3"
  },
  "language_info": {
   "codemirror_mode": {
    "name": "ipython",
    "version": 3
   },
   "file_extension": ".py",
   "mimetype": "text/x-python",
   "name": "python",
   "nbconvert_exporter": "python",
   "pygments_lexer": "ipython3",
   "version": "3.9.12"
  }
 },
 "nbformat": 4,
 "nbformat_minor": 5
}
